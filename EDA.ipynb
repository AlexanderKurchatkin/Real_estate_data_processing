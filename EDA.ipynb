{
 "cells": [
  {
   "attachments": {},
   "cell_type": "markdown",
   "metadata": {},
   "source": []
  },
  {
   "cell_type": "code",
   "execution_count": 2,
   "metadata": {},
   "outputs": [],
   "source": [
    "import numpy as np\n",
    "import pandas as pd\n",
    "import matplotlib as mpl\n",
    "from matplotlib import pyplot as plt\n",
    "import seaborn as sns"
   ]
  },
  {
   "cell_type": "code",
   "execution_count": 3,
   "metadata": {},
   "outputs": [],
   "source": [
    "path = './_data.csv'\n",
    "df = pd.read_csv(path)\n",
    "# df.columns.to_list()"
   ]
  },
  {
   "cell_type": "code",
   "execution_count": 4,
   "metadata": {},
   "outputs": [],
   "source": [
    "# СЛУЖЕБНЫЙ\n",
    "\n",
    "# df.isnull().any()\n",
    "# df.iloc[:, 15:25].head(5)\n",
    "# df.loc[13185:13234,'Лифт'].to_list()"
   ]
  },
  {
   "attachments": {},
   "cell_type": "markdown",
   "metadata": {},
   "source": [
    "<Информация о проекте>\\n\n",
    "<Информация о команде>\\n\n",
    "<Информация о гипотезах>\\n\n",
    "<Информация об используемых подходах к работе с данными с учётом ограничений по ресурсам>\\n ДОПОЛНИТЬ"
   ]
  },
  {
   "cell_type": "code",
   "execution_count": 5,
   "metadata": {},
   "outputs": [
    {
     "name": "stdout",
     "output_type": "stream",
     "text": [
      "Общее количество строк в датасете: 23368, количество колонок: 25.\n",
      "Наименование колонок:\n",
      "- Unnamed: 0\n",
      "- ID  объявления\n",
      "- Количество комнат\n",
      "- Тип\n",
      "- Метро\n",
      "- Адрес\n",
      "- Площадь, м2\n",
      "- Дом\n",
      "- Парковка\n",
      "- Цена\n",
      "- Телефоны\n",
      "- Описание\n",
      "- Ремонт\n",
      "- Площадь комнат, м2\n",
      "- Балкон\n",
      "- Окна\n",
      "- Санузел\n",
      "- Можно с детьми/животными\n",
      "- Дополнительно\n",
      "- Название ЖК\n",
      "- Серия дома\n",
      "- Высота потолков, м\n",
      "- Лифт\n",
      "- Мусоропровод\n",
      "- Ссылка на объявление\n"
     ]
    }
   ],
   "source": [
    "print(f'Общее количество строк в датасете: {df.shape[0]}, количество колонок: {df.shape[1]}.')\n",
    "print('Наименование колонок:')\n",
    "for i in range(df.shape[1]):\n",
    "    print(f'- {df.columns[i]}')"
   ]
  },
  {
   "attachments": {},
   "cell_type": "markdown",
   "metadata": {},
   "source": [
    "Учитывая, что пилотным регионом является Москва, из датасета были исключены строки с объектами недвижимости, расположенными не в Москве."
   ]
  },
  {
   "cell_type": "code",
   "execution_count": 6,
   "metadata": {},
   "outputs": [
    {
     "name": "stdout",
     "output_type": "stream",
     "text": [
      "Количество строк, оставшихся после исключения объектов, расположенных не в Москве: 19737\n"
     ]
    }
   ],
   "source": [
    "df = df[df[\"Адрес\"].str.contains(\"Москва\")]\n",
    "df\n",
    "\n",
    "print(f'Количество строк, оставшихся после исключения объектов, расположенных не в Москве: {df.shape[0]}')"
   ]
  },
  {
   "attachments": {},
   "cell_type": "markdown",
   "metadata": {},
   "source": [
    "Были исследованы данные по каждой колонке, сделаны предварительные выводы о целесообразности либо нецелесообразности включения тех или иных колонок в итоговый датасет, о необходимости преобразования данных, о возможных стратегиях решения проблемы отсутствия значений. \n",
    "Результаты предварительного анализа по каждой колонке представлены ниже:"
   ]
  },
  {
   "attachments": {},
   "cell_type": "markdown",
   "metadata": {},
   "source": [
    "**Колонка 0**"
   ]
  },
  {
   "cell_type": "code",
   "execution_count": 7,
   "metadata": {},
   "outputs": [
    {
     "name": "stdout",
     "output_type": "stream",
     "text": [
      "Название колонки: Unnamed: 0\n",
      "Колонка представляет собой последовательный возрастающий ряд целых чисел, начиная от \"0\", дублирующий индекс первоначального датасета.\n",
      "Уникальны ли значения в колонке:  да.\n",
      "Содержит ли колонка отсутствующие значения: нет.\n",
      "Тип данных в колонке: int64\n",
      "Колонка подлежит исключению, так как не содержит ценных данных для последующей работы.\n"
     ]
    }
   ],
   "source": [
    "print(f'Название колонки: {df.columns[0]}')\n",
    "print('Колонка представляет собой последовательный возрастающий ряд целых чисел, начиная от \"0\", дублирующий индекс первоначального датасета.')\n",
    "print(f'Уникальны ли значения в колонке:  {\"да\" if len(set(df.iloc[:,0])) == len(df.iloc[:,0]) else \"нет\"}.')\n",
    "print(f'Содержит ли колонка отсутствующие значения: {\"да. Количество отсутствующих значений: \" + str(df.iloc[:,0].isnull().sum()) + \". Доля отсутствующих значений в датасете: \" + str(round(df.iloc[:,0].isnull().sum() / len(df.iloc[:,0]), 4) * 100) + \"%\" if df.iloc[:,0].isnull().any() else \"нет\"}.')\n",
    "print(f'Тип данных в колонке: {df.dtypes[0]}')\n",
    "print('Колонка подлежит исключению, так как не содержит ценных данных для последующей работы.')"
   ]
  },
  {
   "attachments": {},
   "cell_type": "markdown",
   "metadata": {},
   "source": [
    "**Колонка 1**"
   ]
  },
  {
   "cell_type": "code",
   "execution_count": 8,
   "metadata": {},
   "outputs": [
    {
     "name": "stdout",
     "output_type": "stream",
     "text": [
      "Название колонки: ID  объявления\n",
      "Колонка содержит перечень идентификационных номеров предложений.\n",
      "Уникальны ли значения в колонке:  да\n",
      "Содержит ли колонка отсутствующие значения: нет\n",
      "Тип данных в колонке: int64\n",
      "Колонка подлежит исключению, так как не содержит ценных данных для последующей работы.\n"
     ]
    }
   ],
   "source": [
    "print(f'Название колонки: {df.columns[1]}')\n",
    "print('Колонка содержит перечень идентификационных номеров предложений.')\n",
    "print(f'Уникальны ли значения в колонке:  {\"да\" if len(set(df.iloc[:,1])) == len(df.iloc[:,1]) else \"нет\"}')\n",
    "print(f'Содержит ли колонка отсутствующие значения: {\"да. Количество отсутствующих значений: \" + str(df.iloc[:,1].isnull().sum()) + \". Доля отсутствующих значений в датасете: \" + str(round(df.iloc[:,1].isnull().sum() / len(df.iloc[:,1]), 4) * 100) + \"%\" if df.iloc[:,1].isnull().any() else \"нет\"}')\n",
    "print(f'Тип данных в колонке: {df.dtypes[1]}')\n",
    "print('Колонка подлежит исключению, так как не содержит ценных данных для последующей работы.')"
   ]
  },
  {
   "attachments": {},
   "cell_type": "markdown",
   "metadata": {},
   "source": [
    "**Колонка 2**"
   ]
  },
  {
   "cell_type": "code",
   "execution_count": 9,
   "metadata": {},
   "outputs": [
    {
     "name": "stdout",
     "output_type": "stream",
     "text": [
      "Название колонки: Количество комнат\n",
      "Колонка содержит значение количества комнат в сдаваемом в аренду объекте недвижимости.\n",
      "Уникальны ли значения в колонке:  нет.\n",
      "Содержит ли колонка отсутствующие значения: да. Количество отсутствующих значений: 535. Доля отсутствующих значений в датасете: 2.71%.\n",
      "Тип данных в колонке: object\n",
      "Минимальное количество комнат в объекте недвижимости: 1, максимальное количество комнат в объекте недвижимости: 6\n"
     ]
    },
    {
     "data": {
      "image/png": "[encoded data removed]",
      "text/plain": [
       "<Figure size 1000x800 with 1 Axes>"
      ]
     },
     "metadata": {},
     "output_type": "display_data"
    },
    {
     "name": "stdout",
     "output_type": "stream",
     "text": [
      "Колонка подлежит использованию в финальном датасете, с переводом значений в формат int.\n"
     ]
    }
   ],
   "source": [
    "print(f'Название колонки: {df.columns[2]}')\n",
    "print('Колонка содержит значение количества комнат в сдаваемом в аренду объекте недвижимости.')\n",
    "print(f'Уникальны ли значения в колонке:  {\"да\" if len(set(df.iloc[:,2])) == len(df.iloc[:,2]) else \"нет\"}.')\n",
    "print(f'Содержит ли колонка отсутствующие значения: {\"да. Количество отсутствующих значений: \" + str(df.iloc[:,2].isnull().sum()) + \". Доля отсутствующих значений в датасете: \" + str(round(df.iloc[:,2].isnull().sum() / len(df.iloc[:,2]), 4) * 100) + \"%\" if df.iloc[:,2].isnull().any() else \"нет\"}.')\n",
    "print(f'Тип данных в колонке: {df.dtypes[2]}')\n",
    "df['rooms'] = df.iloc[:,2].apply(lambda x: int(x.split(',')[0]) if pd.notnull(x) else x)\n",
    "rooms = df['rooms'].unique().tolist()\n",
    "rooms = [int(x) for x in rooms if pd.notnull(x)]\n",
    "print(f'Минимальное количество комнат в объекте недвижимости: {min(rooms)}, максимальное количество комнат в объекте недвижимости: {max(rooms)}')\n",
    "plt.figure(figsize=(10,8))\n",
    "sns.histplot(data=df, x='rooms')\n",
    "plt.xlabel('Количество комнат')\n",
    "plt.ylabel('Количество объектов в датасете с данным числом комнат')\n",
    "plt.show();\n",
    "# ПЛОТ ОБЩАЯ ПЛОЩАДЬ / КОМНАТЫ\n",
    "print('Колонка подлежит использованию в финальном датасете, с переводом значений в формат int.')"
   ]
  },
  {
   "attachments": {},
   "cell_type": "markdown",
   "metadata": {},
   "source": [
    "**Колонка 3**"
   ]
  },
  {
   "cell_type": "code",
   "execution_count": 10,
   "metadata": {},
   "outputs": [
    {
     "name": "stdout",
     "output_type": "stream",
     "text": [
      "Название колонки: Тип\n",
      "Колонка содержит указание типа сдаваемого в аренду объекта недвижимости.\n",
      "Уникальны ли значения в колонке:  нет\n",
      "Перечень уникальных значений: ['Квартира'], т.е. все значения в колонке идентичны друг другу.\n",
      "Содержит ли колонка отсутствующие значения: нет\n",
      "Тип данных в колонке: object\n",
      "Колонка подлежит исключению ввиду неинформативности (имеется единственное уникальное значение).\n"
     ]
    }
   ],
   "source": [
    "print(f'Название колонки: {df.columns[3]}')\n",
    "print('Колонка содержит указание типа сдаваемого в аренду объекта недвижимости.')\n",
    "print(f'Уникальны ли значения в колонке:  {\"да\" if len(set(df.iloc[:,3])) == len(df.iloc[:,3]) else \"нет\"}')\n",
    "print(f'Перечень уникальных значений: {df.iloc[:,3].unique()}, т.е. все значения в колонке идентичны друг другу.')\n",
    "print(f'Содержит ли колонка отсутствующие значения: {\"да. Количество отсутствующих значений: \" + str(df.iloc[:,3].isnull().sum()) + \". Доля отсутствующих значений в датасете: \" + str(round(df.iloc[:,3].isnull().sum() / len(df.iloc[:,3]), 4) * 100) + \"%\" if df.iloc[:,3].isnull().any() else \"нет\"}')\n",
    "print(f'Тип данных в колонке: {df.dtypes[3]}')\n",
    "print('Колонка подлежит исключению ввиду неинформативности (имеется единственное уникальное значение).')"
   ]
  },
  {
   "attachments": {},
   "cell_type": "markdown",
   "metadata": {},
   "source": [
    "**Колонка 4**"
   ]
  },
  {
   "cell_type": "code",
   "execution_count": 12,
   "metadata": {},
   "outputs": [
    {
     "name": "stdout",
     "output_type": "stream",
     "text": [
      "Название колонки: Метро\n",
      "Колонка содержит информацию о станции метро, вблизи которой находится объект недвижимости, а также о времени, затрачиваемом на перемещение до станции метро.\n",
      "Уникальны ли значения в колонке:  нет\n",
      "4872\n",
      "Содержит ли колонка отсутствующие значения: да. Количество отсутствующих значений: 346. Доля отсутствующих значений в датасете: 1.7500000000000002%\n",
      "Тип данных в колонке: object\n",
      "В финальный датасет будет включена информация либо из колонки Адрес, либо из колонки Метро (в части названия станций метро).\n",
      "В случае сохранения информации о названиях станций метро, строки с отсутствующими значениями (ввиду их малочисленности) будут исключены из датасета\n",
      "Подлежит уточнению и дополнительной оценке целесообразность включения в финальный датасет информации о времени перемещения до станции метро.\n"
     ]
    }
   ],
   "source": [
    "print(f'Название колонки: {df.columns[4]}')\n",
    "print('Колонка содержит информацию о станции метро, вблизи которой находится объект недвижимости, а также о времени, затрачиваемом на перемещение до станции метро.')\n",
    "print(f'Уникальны ли значения в колонке:  {\"да\" if len(set(df.iloc[:,4])) == len(df.iloc[:,4]) else \"нет\"}')\n",
    "print(len(set(df.iloc[:,4])))\n",
    "print(f'Содержит ли колонка отсутствующие значения: {\"да. Количество отсутствующих значений: \" + str(df.iloc[:,4].isnull().sum()) + \". Доля отсутствующих значений в датасете: \" + str(round(df.iloc[:,4].isnull().sum() / len(df.iloc[:,4]), 4) * 100) + \"%\" if df.iloc[:,4].isnull().any() else \"нет\"}')\n",
    "print(f'Тип данных в колонке: {df.dtypes[4]}')\n",
    "# ПЛОТ ЦЕНА / МИНУТ ХОДЬБЫ ДО МЕТРО. СГРУППИРОВАТЬ??????\n",
    "print(f'В финальный датасет будет включена информация либо из колонки Адрес, либо из колонки {df.columns[4]} (в части названия станций метро).')\n",
    "print(f'В случае сохранения информации о названиях станций метро, строки с отсутствующими значениями (ввиду их малочисленности) будут исключены из датасета.')\n",
    "print(f'Подлежит уточнению и дополнительной оценке целесообразность включения в финальный датасет информации о времени перемещения до станции метро.')\n"
   ]
  },
  {
   "attachments": {},
   "cell_type": "markdown",
   "metadata": {},
   "source": [
    "Колонка 5"
   ]
  },
  {
   "cell_type": "code",
   "execution_count": 13,
   "metadata": {},
   "outputs": [
    {
     "name": "stdout",
     "output_type": "stream",
     "text": [
      "Название колонки: Адрес\n",
      "Колонка содержит информацию об адресе объекта.\n",
      "Уникальны ли значения в колонке:  нет\n",
      "Содержит ли колонка отсутствующие значения: нет\n",
      "Тип данных в колонке: object\n",
      "В финальный датасет будет включена информация либо из колонки Метро, либо из колонки Адрес.\n"
     ]
    }
   ],
   "source": [
    "print(f'Название колонки: {df.columns[5]}')\n",
    "print('Колонка содержит информацию об адресе объекта.')\n",
    "print(f'Уникальны ли значения в колонке:  {\"да\" if len(set(df.iloc[:,5])) == len(df.iloc[:,5]) else \"нет\"}')\n",
    "print(f'Содержит ли колонка отсутствующие значения: {\"да. Количество отсутствующих значений: \" + str(df.iloc[:,5].isnull().sum()) + \". Доля отсутствующих значений в датасете: \" + str(round(df.iloc[:,5].isnull().sum() / len(df.iloc[:,5]), 4) * 100) + \"%\" if df.iloc[:,5].isnull().any() else \"нет\"}')\n",
    "print(f'Тип данных в колонке: {df.dtypes[5]}')\n",
    "print(f'В финальный датасет будет включена информация либо из колонки Метро, либо из колонки {df.columns[5]}.')"
   ]
  },
  {
   "attachments": {},
   "cell_type": "markdown",
   "metadata": {},
   "source": [
    "Колонка 6"
   ]
  },
  {
   "cell_type": "code",
   "execution_count": 15,
   "metadata": {},
   "outputs": [
    {
     "name": "stdout",
     "output_type": "stream",
     "text": [
      "Название колонки: Площадь, м2\n",
      "Колонка содержит информацию о площади объекта недвижимости.\n",
      "Уникальны ли значения в колонке:  нет\n",
      "Содержит ли колонка отсутствующие значения: нет\n",
      "Тип данных в колонке: object\n",
      "Колонка подлежит сохранению, с переводом значений (первое значение в строке, соответствующее общей площади) в числовой формат\n"
     ]
    }
   ],
   "source": [
    "print(f'Название колонки: {df.columns[6]}')\n",
    "print('Колонка содержит информацию о площади объекта недвижимости.')\n",
    "print(f'Уникальны ли значения в колонке:  {\"да\" if len(set(df.iloc[:,6])) == len(df.iloc[:,6]) else \"нет\"}')\n",
    "print(f'Содержит ли колонка отсутствующие значения: {\"да. Количество отсутствующих значений: \" + str(df.iloc[:,6].isnull().sum()) + \". Доля отсутствующих значений в датасете: \" + str(round(df.iloc[:,6].isnull().sum() / len(df.iloc[:,6]), 4) * 100) + \"%\" if df.iloc[:,6].isnull().any() else \"нет\"}')\n",
    "print(f'Тип данных в колонке: {df.dtypes[6]}')\n",
    "# ПЛОТ???? ЦЕНА / ПЛОЩАДЬ ВАЛИДНЫ ТОЛЬКО С УЧЁТОМ АДРЕСА, САМОСТОЯТЕЛЬНО ЭТОТ ГРАФИК НЕИНФОРМАТИВЕН\n",
    "# ДОПОЛНИТЬ ГИСТОГРАММОЙ ПО ОБЩЕЙ ПЛОЩАДИ\n",
    "print('Колонка подлежит сохранению, с переводом значений (первое значение в строке, соответствующее общей площади) в числовой формат')"
   ]
  },
  {
   "attachments": {},
   "cell_type": "markdown",
   "metadata": {},
   "source": [
    "Колонка 7"
   ]
  },
  {
   "cell_type": "code",
   "execution_count": 16,
   "metadata": {},
   "outputs": [
    {
     "name": "stdout",
     "output_type": "stream",
     "text": [
      "Название колонки: Дом\n",
      "Колонка содержит информацию о площади объекта недвижимости.\n",
      "Уникальны ли значения в колонке:  нет\n",
      "2415\n",
      "Содержит ли колонка отсутствующие значения: нет\n",
      "Тип данных в колонке: object\n",
      "Данные в колонке подлежат сохранению, с выделением типов домов, в которых находятся объекты недвижимости\n"
     ]
    }
   ],
   "source": [
    "print(f'Название колонки: {df.columns[7]}')\n",
    "print('Колонка содержит информацию о площади объекта недвижимости.')\n",
    "print(f'Уникальны ли значения в колонке:  {\"да\" if len(set(df.iloc[:,7])) == len(df.iloc[:,7]) else \"нет\"}')\n",
    "print(len(set(df.iloc[:,7])))\n",
    "print(f'Содержит ли колонка отсутствующие значения: {\"да. Количество отсутствующих значений: \" + str(df.iloc[:,7].isnull().sum()) + \". Доля отсутствующих значений в датасете: \" + str(round(df.iloc[:,7].isnull().sum() / len(df.iloc[:,7]), 4) * 100) + \"%\" if df.iloc[:,7].isnull().any() else \"нет\"}')\n",
    "print(f'Тип данных в колонке: {df.dtypes[7]}')\n",
    "# ЭТАЖНОСТЬ / НЕЭТАЖНОСТЬ???? ПАРСИНГ + РАЗБИТЬ НА ТИПЫ ДОМОВ\n",
    "print('Данные в колонке подлежат сохранению, с выделением типов домов, в которых находятся объекты недвижимости')"
   ]
  }
 ],
 "metadata": {
  "kernelspec": {
   "display_name": "base",
   "language": "python",
   "name": "python3"
  },
  "language_info": {
   "codemirror_mode": {
    "name": "ipython",
    "version": 3
   },
   "file_extension": ".py",
   "mimetype": "text/x-python",
   "name": "python",
   "nbconvert_exporter": "python",
   "pygments_lexer": "ipython3",
   "version": "3.10.10"
  },
  "orig_nbformat": 4
 },
 "nbformat": 4,
 "nbformat_minor": 2
}
